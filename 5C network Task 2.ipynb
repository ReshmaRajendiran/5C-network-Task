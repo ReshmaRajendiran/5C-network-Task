{
 "cells": [
  {
   "cell_type": "code",
   "execution_count": 64,
   "metadata": {},
   "outputs": [],
   "source": [
    "import pandas as pd\n",
    "import numpy as np\n",
    "import matplotlib.pyplot as plt"
   ]
  },
  {
   "cell_type": "code",
   "execution_count": 2,
   "metadata": {},
   "outputs": [
    {
     "data": {
      "text/html": [
       "<div>\n",
       "<style scoped>\n",
       "    .dataframe tbody tr th:only-of-type {\n",
       "        vertical-align: middle;\n",
       "    }\n",
       "\n",
       "    .dataframe tbody tr th {\n",
       "        vertical-align: top;\n",
       "    }\n",
       "\n",
       "    .dataframe thead th {\n",
       "        text-align: right;\n",
       "    }\n",
       "</style>\n",
       "<table border=\"1\" class=\"dataframe\">\n",
       "  <thead>\n",
       "    <tr style=\"text-align: right;\">\n",
       "      <th></th>\n",
       "      <th>Date</th>\n",
       "      <th>Firm bought from</th>\n",
       "      <th>Buying price</th>\n",
       "      <th>Quantity bought</th>\n",
       "      <th>Customer</th>\n",
       "      <th>Selling price</th>\n",
       "      <th>Quantity sold</th>\n",
       "    </tr>\n",
       "  </thead>\n",
       "  <tbody>\n",
       "    <tr>\n",
       "      <th>0</th>\n",
       "      <td>2023-08-21</td>\n",
       "      <td>Vendor6</td>\n",
       "      <td>72.11</td>\n",
       "      <td>60</td>\n",
       "      <td>Customer7</td>\n",
       "      <td>91.58</td>\n",
       "      <td>44</td>\n",
       "    </tr>\n",
       "    <tr>\n",
       "      <th>1</th>\n",
       "      <td>2023-08-21</td>\n",
       "      <td>Vendor4</td>\n",
       "      <td>75.08</td>\n",
       "      <td>92</td>\n",
       "      <td>Customer7</td>\n",
       "      <td>83.71</td>\n",
       "      <td>17</td>\n",
       "    </tr>\n",
       "    <tr>\n",
       "      <th>2</th>\n",
       "      <td>2023-08-21</td>\n",
       "      <td>Vendor7</td>\n",
       "      <td>83.93</td>\n",
       "      <td>16</td>\n",
       "      <td>Customer2</td>\n",
       "      <td>103.76</td>\n",
       "      <td>15</td>\n",
       "    </tr>\n",
       "    <tr>\n",
       "      <th>3</th>\n",
       "      <td>2023-08-21</td>\n",
       "      <td>Vendor7</td>\n",
       "      <td>52.01</td>\n",
       "      <td>62</td>\n",
       "      <td>Customer3</td>\n",
       "      <td>64.53</td>\n",
       "      <td>7</td>\n",
       "    </tr>\n",
       "    <tr>\n",
       "      <th>4</th>\n",
       "      <td>2023-08-21</td>\n",
       "      <td>Vendor2</td>\n",
       "      <td>98.91</td>\n",
       "      <td>1</td>\n",
       "      <td>Customer5</td>\n",
       "      <td>140.92</td>\n",
       "      <td>1</td>\n",
       "    </tr>\n",
       "    <tr>\n",
       "      <th>...</th>\n",
       "      <td>...</td>\n",
       "      <td>...</td>\n",
       "      <td>...</td>\n",
       "      <td>...</td>\n",
       "      <td>...</td>\n",
       "      <td>...</td>\n",
       "      <td>...</td>\n",
       "    </tr>\n",
       "    <tr>\n",
       "      <th>65</th>\n",
       "      <td>2023-08-27</td>\n",
       "      <td>Vendor4</td>\n",
       "      <td>64.82</td>\n",
       "      <td>28</td>\n",
       "      <td>Customer6</td>\n",
       "      <td>87.45</td>\n",
       "      <td>18</td>\n",
       "    </tr>\n",
       "    <tr>\n",
       "      <th>66</th>\n",
       "      <td>2023-08-27</td>\n",
       "      <td>Vendor8</td>\n",
       "      <td>88.79</td>\n",
       "      <td>14</td>\n",
       "      <td>Customer3</td>\n",
       "      <td>105.59</td>\n",
       "      <td>5</td>\n",
       "    </tr>\n",
       "    <tr>\n",
       "      <th>67</th>\n",
       "      <td>2023-08-27</td>\n",
       "      <td>Vendor5</td>\n",
       "      <td>63.30</td>\n",
       "      <td>81</td>\n",
       "      <td>Customer5</td>\n",
       "      <td>92.92</td>\n",
       "      <td>32</td>\n",
       "    </tr>\n",
       "    <tr>\n",
       "      <th>68</th>\n",
       "      <td>2023-08-27</td>\n",
       "      <td>Vendor5</td>\n",
       "      <td>94.06</td>\n",
       "      <td>18</td>\n",
       "      <td>Customer5</td>\n",
       "      <td>125.67</td>\n",
       "      <td>4</td>\n",
       "    </tr>\n",
       "    <tr>\n",
       "      <th>69</th>\n",
       "      <td>2023-08-27</td>\n",
       "      <td>Vendor5</td>\n",
       "      <td>56.28</td>\n",
       "      <td>25</td>\n",
       "      <td>Customer6</td>\n",
       "      <td>82.16</td>\n",
       "      <td>1</td>\n",
       "    </tr>\n",
       "  </tbody>\n",
       "</table>\n",
       "<p>70 rows × 7 columns</p>\n",
       "</div>"
      ],
      "text/plain": [
       "          Date Firm bought from  Buying price  Quantity bought   Customer  \\\n",
       "0   2023-08-21          Vendor6         72.11               60  Customer7   \n",
       "1   2023-08-21          Vendor4         75.08               92  Customer7   \n",
       "2   2023-08-21          Vendor7         83.93               16  Customer2   \n",
       "3   2023-08-21          Vendor7         52.01               62  Customer3   \n",
       "4   2023-08-21          Vendor2         98.91                1  Customer5   \n",
       "..         ...              ...           ...              ...        ...   \n",
       "65  2023-08-27          Vendor4         64.82               28  Customer6   \n",
       "66  2023-08-27          Vendor8         88.79               14  Customer3   \n",
       "67  2023-08-27          Vendor5         63.30               81  Customer5   \n",
       "68  2023-08-27          Vendor5         94.06               18  Customer5   \n",
       "69  2023-08-27          Vendor5         56.28               25  Customer6   \n",
       "\n",
       "    Selling price  Quantity sold  \n",
       "0           91.58             44  \n",
       "1           83.71             17  \n",
       "2          103.76             15  \n",
       "3           64.53              7  \n",
       "4          140.92              1  \n",
       "..            ...            ...  \n",
       "65          87.45             18  \n",
       "66         105.59              5  \n",
       "67          92.92             32  \n",
       "68         125.67              4  \n",
       "69          82.16              1  \n",
       "\n",
       "[70 rows x 7 columns]"
      ]
     },
     "execution_count": 2,
     "metadata": {},
     "output_type": "execute_result"
    }
   ],
   "source": [
    "df=pd.read_csv('/Users/apple/Downloads/sales_data_2.csv')\n",
    "df"
   ]
  },
  {
   "attachments": {},
   "cell_type": "markdown",
   "metadata": {},
   "source": [
    "6.3 day average of the daily gross profit"
   ]
  },
  {
   "cell_type": "code",
   "execution_count": 3,
   "metadata": {},
   "outputs": [],
   "source": [
    "# Convert the 'Date' column to a datetime data type\n",
    "df['Date'] = pd.to_datetime(df['Date'])"
   ]
  },
  {
   "cell_type": "code",
   "execution_count": 4,
   "metadata": {},
   "outputs": [],
   "source": [
    "# Calculate the total revenue for each transaction\n",
    "df['Total Revenue'] = df['Selling price'] * df['Quantity sold']"
   ]
  },
  {
   "cell_type": "code",
   "execution_count": 9,
   "metadata": {},
   "outputs": [],
   "source": [
    "# Calculate the total COGS for each transaction\n",
    "df['Total COGS'] = df['Buying price'] * df['Quantity sold']"
   ]
  },
  {
   "cell_type": "code",
   "execution_count": 10,
   "metadata": {},
   "outputs": [],
   "source": [
    "# Calculate the gross profit for each transaction\n",
    "df['Gross Profit'] = df['Total Revenue'] - df['Total COGS']"
   ]
  },
  {
   "cell_type": "code",
   "execution_count": 11,
   "metadata": {},
   "outputs": [],
   "source": [
    "# Calculate the 3-day average of daily gross profit\n",
    "df['3-Day Moving Avg Gross Profit'] = df['Gross Profit'].rolling(window=3).mean()\n"
   ]
  },
  {
   "cell_type": "code",
   "execution_count": 12,
   "metadata": {},
   "outputs": [
    {
     "name": "stdout",
     "output_type": "stream",
     "text": [
      "         Date  Gross Profit  3-Day Moving Avg Gross Profit\n",
      "0  2023-08-21        856.68                            NaN\n",
      "1  2023-08-21        146.71                            NaN\n",
      "2  2023-08-21        297.45                     433.613333\n",
      "3  2023-08-21         87.64                     177.266667\n",
      "4  2023-08-21         42.01                     142.366667\n",
      "..        ...           ...                            ...\n",
      "65 2023-08-27        407.34                     552.863333\n",
      "66 2023-08-27         84.00                     552.070000\n",
      "67 2023-08-27        947.84                     479.726667\n",
      "68 2023-08-27        126.44                     386.093333\n",
      "69 2023-08-27         25.88                     366.720000\n",
      "\n",
      "[70 rows x 3 columns]\n"
     ]
    }
   ],
   "source": [
    "# Print the DataFrame with the average profit\n",
    "print(df[['Date', 'Gross Profit', '3-Day Moving Avg Gross Profit']])"
   ]
  },
  {
   "attachments": {},
   "cell_type": "markdown",
   "metadata": {},
   "source": [
    "7.Plotting the 3 day average gross profit"
   ]
  },
  {
   "cell_type": "code",
   "execution_count": 14,
   "metadata": {},
   "outputs": [
    {
     "data": {
      "image/png": "[encoded data removed]",
      "text/plain": [
       "<Figure size 1200x600 with 1 Axes>"
      ]
     },
     "metadata": {},
     "output_type": "display_data"
    }
   ],
   "source": [
    "# Plot the 3-day average profit over time\n",
    "plt.figure(figsize=(12, 6))\n",
    "plt.plot(df['Date'], df['3-Day Moving Avg Gross Profit'], label='3-Day Moving Avg Gross Profit')\n",
    "plt.xlabel('Date')\n",
    "plt.ylabel('Moving Average Gross Profit')\n",
    "plt.title('3-Day Moving Average of Gross Profit Over Time')\n",
    "plt.legend()\n",
    "plt.grid(True)\n",
    "plt.show()"
   ]
  },
  {
   "attachments": {},
   "cell_type": "markdown",
   "metadata": {},
   "source": [
    "8.Can you optimize the sales process to ensure gross margin is maximized?\n",
    "    \n",
    "    - Would you fire any vendor?\n",
    "    - Would you let go of any customer?"
   ]
  },
  {
   "cell_type": "code",
   "execution_count": 75,
   "metadata": {},
   "outputs": [
    {
     "name": "stdout",
     "output_type": "stream",
     "text": [
      "Overall Gross Margin: 608.49%\n"
     ]
    }
   ],
   "source": [
    "# Calculate gross profit for each transaction\n",
    "df['Gross Profit'] = (df['Selling price'] - df['Buying price']) * df['Quantity sold']\n",
    "\n",
    "# Calculate overall gross margin\n",
    "total_gross_profit = df['Gross Profit'].sum()\n",
    "total_sales = df['Selling price'].sum()\n",
    "overall_gross_margin = (total_gross_profit / total_sales) * 100\n",
    "\n",
    "print(f\"Overall Gross Margin: {overall_gross_margin:.2f}%\")\n"
   ]
  },
  {
   "cell_type": "code",
   "execution_count": 82,
   "metadata": {},
   "outputs": [
    {
     "name": "stdout",
     "output_type": "stream",
     "text": [
      "Desired Gross Margin: 40.00%\n",
      "Overall Gross Margin before adjustment: 608.49%\n",
      "Price Adjustment Factor: 0.07\n",
      "Overall Gross Margin after adjustment: -25849.96%\n"
     ]
    }
   ],
   "source": [
    "# Define the desired gross margin\n",
    "desired_gross_margin = 40.0  \n",
    "\n",
    "# Calculate the price adjustment factor to achieve the desired margin\n",
    "price_adjustment_factor = desired_gross_margin / overall_gross_margin\n",
    "\n",
    "# Apply the price adjustment to achieve the desired gross margin\n",
    "df['Adjusted Selling Price'] = df['Selling price'] * price_adjustment_factor\n",
    "\n",
    "# Calculate the new gross profit based on the adjusted prices\n",
    "df['New Gross Profit'] = (df['Adjusted Selling Price'] - df['Buying price']) * df['Quantity sold']\n",
    "\n",
    "# Calculate the new overall gross margin\n",
    "new_total_gross_profit = df['New Gross Profit'].sum()\n",
    "new_total_sales = df['Adjusted Selling Price'].sum()\n",
    "new_gross_margin = (new_total_gross_profit / new_total_sales) * 100\n",
    "\n",
    "# Print the results\n",
    "print(f\"Desired Gross Margin: {desired_gross_margin:.2f}%\")\n",
    "print(f\"Overall Gross Margin before adjustment: {overall_gross_margin:.2f}%\")\n",
    "print(f\"Price Adjustment Factor: {price_adjustment_factor:.2f}\")\n",
    "print(f\"Overall Gross Margin after adjustment: {new_gross_margin:.2f}%\")\n",
    "\n"
   ]
  },
  {
   "attachments": {},
   "cell_type": "markdown",
   "metadata": {},
   "source": [
    "9.To ensure competitive pricing, Ram wants to benchmark their buying and selling prices against the market. Could you calculate the 25th, 50th (median), and 75th percentiles for both buying and selling prices?"
   ]
  },
  {
   "cell_type": "code",
   "execution_count": 17,
   "metadata": {},
   "outputs": [],
   "source": [
    "# Calculate the 25th, 50th (median), and 75th percentiles for buying and selling prices\n",
    "percentiles = [25, 50, 75]  \n",
    "\n",
    "buying_price_percentiles = df['Buying price'].quantile([0.25, 0.50, 0.75])\n",
    "selling_price_percentiles = df['Selling price'].quantile([0.25, 0.50, 0.75])"
   ]
  },
  {
   "cell_type": "code",
   "execution_count": 18,
   "metadata": {},
   "outputs": [
    {
     "name": "stdout",
     "output_type": "stream",
     "text": [
      "Buying Price Percentiles:\n",
      "0.25    29.90\n",
      "0.50    60.76\n",
      "0.75    78.32\n",
      "Name: Buying price, dtype: float64\n"
     ]
    }
   ],
   "source": [
    "# Print the percentiles for buying prices\n",
    "print(\"Buying Price Percentiles:\")\n",
    "print(buying_price_percentiles)"
   ]
  },
  {
   "cell_type": "code",
   "execution_count": 19,
   "metadata": {},
   "outputs": [
    {
     "name": "stdout",
     "output_type": "stream",
     "text": [
      "\n",
      "Selling Price Percentiles:\n",
      "0.25     38.9750\n",
      "0.50     78.9900\n",
      "0.75    103.3975\n",
      "Name: Selling price, dtype: float64\n"
     ]
    }
   ],
   "source": [
    "# Print the percentiles for selling prices\n",
    "print(\"\\nSelling Price Percentiles:\")\n",
    "print(selling_price_percentiles)"
   ]
  },
  {
   "attachments": {},
   "cell_type": "markdown",
   "metadata": {},
   "source": [
    "10.Additionally, analyze how often the Sapota’s prices fall below the 25th percentile or above the 75th percentile, potentially indicating they are buying at a high price or selling at a low price relative to their own transaction history."
   ]
  },
  {
   "cell_type": "code",
   "execution_count": 62,
   "metadata": {},
   "outputs": [],
   "source": [
    "# Extract buying and selling prices from the DataFrame\n",
    "buying_prices = df['Buying price'].values\n",
    "selling_prices = df['Selling price'].values"
   ]
  },
  {
   "cell_type": "code",
   "execution_count": 68,
   "metadata": {},
   "outputs": [
    {
     "name": "stdout",
     "output_type": "stream",
     "text": [
      "Buying Price 25th percentile: 29.9\n",
      "Selling Price 25th percentile: 38.975\n",
      "Buying Price 50th percentile: 60.76\n",
      "Selling Price 50th percentile: 78.99000000000001\n",
      "Buying Price 75th percentile: 78.32000000000001\n",
      "Selling Price 75th percentile: 103.39750000000001\n"
     ]
    }
   ],
   "source": [
    "if len(buying_prices) > 0 and len(selling_prices) > 0:\n",
    "    # Calculate the percentiles\n",
    "    percentiles = [25, 50, 75]\n",
    "    buying_percentiles = np.percentile(buying_prices, percentiles)\n",
    "    selling_percentiles = np.percentile(selling_prices, percentiles)\n",
    "\n",
    "    # Print the results\n",
    "    for i, p in enumerate(percentiles):\n",
    "        print(f\"Buying Price {p}th percentile: {buying_percentiles[i]}\")\n",
    "        print(f\"Selling Price {p}th percentile: {selling_percentiles[i]}\")\n",
    "else:\n",
    "    print(\"No data available for percentile calculations.\")"
   ]
  },
  {
   "attachments": {},
   "cell_type": "markdown",
   "metadata": {},
   "source": [
    "11.Bharath says that Vendor 4 has to be honored.  What impact does it have on your optimal gross margin? "
   ]
  },
  {
   "cell_type": "code",
   "execution_count": 57,
   "metadata": {},
   "outputs": [
    {
     "data": {
      "text/html": [
       "<div>\n",
       "<style scoped>\n",
       "    .dataframe tbody tr th:only-of-type {\n",
       "        vertical-align: middle;\n",
       "    }\n",
       "\n",
       "    .dataframe tbody tr th {\n",
       "        vertical-align: top;\n",
       "    }\n",
       "\n",
       "    .dataframe thead th {\n",
       "        text-align: right;\n",
       "    }\n",
       "</style>\n",
       "<table border=\"1\" class=\"dataframe\">\n",
       "  <thead>\n",
       "    <tr style=\"text-align: right;\">\n",
       "      <th></th>\n",
       "      <th>Date</th>\n",
       "      <th>Firm bought from</th>\n",
       "      <th>Buying price</th>\n",
       "      <th>Quantity bought</th>\n",
       "      <th>Customer</th>\n",
       "      <th>Selling price</th>\n",
       "      <th>Quantity sold</th>\n",
       "      <th>Total Revenue</th>\n",
       "      <th>Total COGS</th>\n",
       "      <th>Gross Profit</th>\n",
       "      <th>3-Day Moving Avg Gross Profit</th>\n",
       "    </tr>\n",
       "  </thead>\n",
       "  <tbody>\n",
       "    <tr>\n",
       "      <th>1</th>\n",
       "      <td>2023-08-21</td>\n",
       "      <td>Vendor4</td>\n",
       "      <td>75.08</td>\n",
       "      <td>92</td>\n",
       "      <td>Customer7</td>\n",
       "      <td>83.71</td>\n",
       "      <td>17</td>\n",
       "      <td>1423.07</td>\n",
       "      <td>1276.36</td>\n",
       "      <td>146.71</td>\n",
       "      <td>NaN</td>\n",
       "    </tr>\n",
       "    <tr>\n",
       "      <th>29</th>\n",
       "      <td>2023-08-23</td>\n",
       "      <td>Vendor4</td>\n",
       "      <td>50.49</td>\n",
       "      <td>43</td>\n",
       "      <td>Customer10</td>\n",
       "      <td>59.99</td>\n",
       "      <td>41</td>\n",
       "      <td>2459.59</td>\n",
       "      <td>2070.09</td>\n",
       "      <td>389.50</td>\n",
       "      <td>755.750000</td>\n",
       "    </tr>\n",
       "    <tr>\n",
       "      <th>34</th>\n",
       "      <td>2023-08-24</td>\n",
       "      <td>Vendor4</td>\n",
       "      <td>99.23</td>\n",
       "      <td>95</td>\n",
       "      <td>Customer1</td>\n",
       "      <td>131.98</td>\n",
       "      <td>92</td>\n",
       "      <td>12142.16</td>\n",
       "      <td>9129.16</td>\n",
       "      <td>3013.00</td>\n",
       "      <td>1242.630000</td>\n",
       "    </tr>\n",
       "    <tr>\n",
       "      <th>49</th>\n",
       "      <td>2023-08-25</td>\n",
       "      <td>Vendor4</td>\n",
       "      <td>17.85</td>\n",
       "      <td>80</td>\n",
       "      <td>Customer5</td>\n",
       "      <td>20.47</td>\n",
       "      <td>20</td>\n",
       "      <td>409.40</td>\n",
       "      <td>357.00</td>\n",
       "      <td>52.40</td>\n",
       "      <td>440.043333</td>\n",
       "    </tr>\n",
       "    <tr>\n",
       "      <th>54</th>\n",
       "      <td>2023-08-26</td>\n",
       "      <td>Vendor4</td>\n",
       "      <td>82.77</td>\n",
       "      <td>66</td>\n",
       "      <td>Customer8</td>\n",
       "      <td>124.13</td>\n",
       "      <td>65</td>\n",
       "      <td>8068.45</td>\n",
       "      <td>5380.05</td>\n",
       "      <td>2688.40</td>\n",
       "      <td>959.096667</td>\n",
       "    </tr>\n",
       "    <tr>\n",
       "      <th>59</th>\n",
       "      <td>2023-08-26</td>\n",
       "      <td>Vendor4</td>\n",
       "      <td>28.90</td>\n",
       "      <td>88</td>\n",
       "      <td>Customer8</td>\n",
       "      <td>36.83</td>\n",
       "      <td>11</td>\n",
       "      <td>405.13</td>\n",
       "      <td>317.90</td>\n",
       "      <td>87.23</td>\n",
       "      <td>342.363333</td>\n",
       "    </tr>\n",
       "    <tr>\n",
       "      <th>62</th>\n",
       "      <td>2023-08-27</td>\n",
       "      <td>Vendor4</td>\n",
       "      <td>68.27</td>\n",
       "      <td>22</td>\n",
       "      <td>Customer4</td>\n",
       "      <td>100.62</td>\n",
       "      <td>1</td>\n",
       "      <td>100.62</td>\n",
       "      <td>68.27</td>\n",
       "      <td>32.35</td>\n",
       "      <td>81.236667</td>\n",
       "    </tr>\n",
       "    <tr>\n",
       "      <th>63</th>\n",
       "      <td>2023-08-27</td>\n",
       "      <td>Vendor4</td>\n",
       "      <td>83.76</td>\n",
       "      <td>34</td>\n",
       "      <td>Customer3</td>\n",
       "      <td>96.10</td>\n",
       "      <td>7</td>\n",
       "      <td>672.70</td>\n",
       "      <td>586.32</td>\n",
       "      <td>86.38</td>\n",
       "      <td>78.670000</td>\n",
       "    </tr>\n",
       "    <tr>\n",
       "      <th>65</th>\n",
       "      <td>2023-08-27</td>\n",
       "      <td>Vendor4</td>\n",
       "      <td>64.82</td>\n",
       "      <td>28</td>\n",
       "      <td>Customer6</td>\n",
       "      <td>87.45</td>\n",
       "      <td>18</td>\n",
       "      <td>1574.10</td>\n",
       "      <td>1166.76</td>\n",
       "      <td>407.34</td>\n",
       "      <td>552.863333</td>\n",
       "    </tr>\n",
       "  </tbody>\n",
       "</table>\n",
       "</div>"
      ],
      "text/plain": [
       "         Date Firm bought from  Buying price  Quantity bought    Customer  \\\n",
       "1  2023-08-21          Vendor4         75.08               92   Customer7   \n",
       "29 2023-08-23          Vendor4         50.49               43  Customer10   \n",
       "34 2023-08-24          Vendor4         99.23               95   Customer1   \n",
       "49 2023-08-25          Vendor4         17.85               80   Customer5   \n",
       "54 2023-08-26          Vendor4         82.77               66   Customer8   \n",
       "59 2023-08-26          Vendor4         28.90               88   Customer8   \n",
       "62 2023-08-27          Vendor4         68.27               22   Customer4   \n",
       "63 2023-08-27          Vendor4         83.76               34   Customer3   \n",
       "65 2023-08-27          Vendor4         64.82               28   Customer6   \n",
       "\n",
       "    Selling price  Quantity sold  Total Revenue  Total COGS  Gross Profit  \\\n",
       "1           83.71             17        1423.07     1276.36        146.71   \n",
       "29          59.99             41        2459.59     2070.09        389.50   \n",
       "34         131.98             92       12142.16     9129.16       3013.00   \n",
       "49          20.47             20         409.40      357.00         52.40   \n",
       "54         124.13             65        8068.45     5380.05       2688.40   \n",
       "59          36.83             11         405.13      317.90         87.23   \n",
       "62         100.62              1         100.62       68.27         32.35   \n",
       "63          96.10              7         672.70      586.32         86.38   \n",
       "65          87.45             18        1574.10     1166.76        407.34   \n",
       "\n",
       "    3-Day Moving Avg Gross Profit  \n",
       "1                             NaN  \n",
       "29                     755.750000  \n",
       "34                    1242.630000  \n",
       "49                     440.043333  \n",
       "54                     959.096667  \n",
       "59                     342.363333  \n",
       "62                      81.236667  \n",
       "63                      78.670000  \n",
       "65                     552.863333  "
      ]
     },
     "execution_count": 57,
     "metadata": {},
     "output_type": "execute_result"
    }
   ],
   "source": [
    "# Filter the data for transactions with \"Firm bought\" equal to \"Vendor 4\"\n",
    "vendor_4_data = df[df['Firm bought from'] == 'Vendor4']\n",
    "vendor_4_data"
   ]
  },
  {
   "cell_type": "code",
   "execution_count": 58,
   "metadata": {},
   "outputs": [
    {
     "name": "stdout",
     "output_type": "stream",
     "text": [
      "The gross margin for Vendor 4 is 25.33%\n"
     ]
    }
   ],
   "source": [
    "# Calculate the total revenue for Vendor 4 transactions\n",
    "total_revenue = (vendor_4_data['Selling price'] * vendor_4_data['Quantity sold']).sum()\n",
    "\n",
    "# Calculate the total cost of goods sold (COGS) for Vendor 4 transactions\n",
    "total_cogs = (vendor_4_data['Buying price'] * vendor_4_data['Quantity sold']).sum()\n",
    "\n",
    "# Calculate the gross margin for Vendor 4 as a single value\n",
    "gross_margin = ((total_revenue - total_cogs) / total_revenue) * 100\n",
    "\n",
    "# Print the gross margin for Vendor 4\n",
    "print(f\"The gross margin for Vendor 4 is {gross_margin:.2f}%\")"
   ]
  },
  {
   "cell_type": "code",
   "execution_count": 59,
   "metadata": {},
   "outputs": [
    {
     "name": "stdout",
     "output_type": "stream",
     "text": [
      "Scenario: Cost +0.05, Price +0.02, Quality -0.01\n",
      "New Gross Margin: 25.289999999999996\n",
      "Scenario: Cost +0.03, Price +0.01, Quality -0.02\n",
      "New Gross Margin: 25.29\n"
     ]
    }
   ],
   "source": [
    "# Define your current gross margin with Vendor 4\n",
    "current_gross_margin = 25.33  \n",
    "\n",
    "# Define scenarios with different cost and pricing factors\n",
    "scenarios = [\n",
    "    {\"cost_increase\": 0.05, \"price_increase\": 0.02, \"quality_impact\": 0.01},\n",
    "    {\"cost_increase\": 0.03, \"price_increase\": 0.01, \"quality_impact\": 0.02},\n",
    "    # Add more scenarios as needed\n",
    "]\n",
    "\n",
    "# Calculate the gross margin for each scenario\n",
    "for scenario in scenarios:\n",
    "    cost_increase = scenario[\"cost_increase\"]\n",
    "    price_increase = scenario[\"price_increase\"]\n",
    "    quality_impact = scenario[\"quality_impact\"]\n",
    "    \n",
    "    # Calculate the new gross margin for the scenario\n",
    "    new_gross_margin = current_gross_margin - cost_increase + price_increase - quality_impact\n",
    "    \n",
    "    # Print the results\n",
    "    print(f\"Scenario: Cost +{cost_increase}, Price +{price_increase}, Quality -{quality_impact}\")\n",
    "    print(f\"New Gross Margin: {new_gross_margin}\")\n"
   ]
  },
  {
   "attachments": {},
   "cell_type": "markdown",
   "metadata": {},
   "source": [
    "12.Which vendor should we have a strategic tie up so that we source only from them (the goal here is to have the highest gross margin)\n",
    "    - What’s the theoretical max margin the firm could have from that branch?"
   ]
  },
  {
   "cell_type": "code",
   "execution_count": 61,
   "metadata": {},
   "outputs": [
    {
     "name": "stdout",
     "output_type": "stream",
     "text": [
      "The vendor with the highest mean gross margin is: Vendor3\n",
      "The theoretical maximum gross margin with Vendor3 is: -8.33%\n"
     ]
    }
   ],
   "source": [
    "# Group data by vendors and calculate the mean gross margin for each vendor\n",
    "vendor_gross_margin = df.groupby('Firm bought from').apply(\n",
    "    lambda group: ((group['Selling price'] * group['Quantity sold']).sum() - (group['Buying price'] * group['Quantity bought']).sum()) /\n",
    "    (group['Selling price'] * group['Quantity sold']).sum() * 100\n",
    ")\n",
    "\n",
    "# Identify the vendor with the highest mean gross margin\n",
    "best_vendor = vendor_gross_margin.idxmax()\n",
    "\n",
    "# Print the vendor with the highest mean gross margin\n",
    "print(f\"The vendor with the highest mean gross margin is: {best_vendor}\")\n",
    "\n",
    "# Calculate the theoretical maximum gross margin by considering the best vendor's terms\n",
    "theoretical_max_margin = vendor_gross_margin.max()\n",
    "\n",
    "# Print the theoretical maximum gross margin\n",
    "print(f\"The theoretical maximum gross margin with {best_vendor} is: {theoretical_max_margin:.2f}%\")"
   ]
  },
  {
   "attachments": {},
   "cell_type": "markdown",
   "metadata": {},
   "source": [
    "13.Given this is the ground truth, what is the price elasticity of Sapota for that branch? (If you increase by Rs.1, how much sales will go up/down and if you decrease price by Rs. 1, how much sales will go up/down)"
   ]
  },
  {
   "cell_type": "code",
   "execution_count": 74,
   "metadata": {},
   "outputs": [],
   "source": [
    "# Extract relevant columns from the DataFrame\n",
    "buying_price = df[\"Buying price\"]\n",
    "selling_price = df[\"Selling price\"]\n",
    "quantity_sold = df[\"Quantity sold\"]\n"
   ]
  },
  {
   "cell_type": "code",
   "execution_count": 71,
   "metadata": {},
   "outputs": [],
   "source": [
    "# Calculate the percentage change in quantity and price\n",
    "percentage_change_price = (selling_price - buying_price) / buying_price\n",
    "percentage_change_quantity = (quantity_sold.diff() / quantity_sold.shift(1)).fillna(0)"
   ]
  },
  {
   "cell_type": "code",
   "execution_count": 72,
   "metadata": {},
   "outputs": [],
   "source": [
    "# Calculate the price elasticity\n",
    "price_elasticity = percentage_change_quantity / percentage_change_price"
   ]
  },
  {
   "cell_type": "code",
   "execution_count": 73,
   "metadata": {},
   "outputs": [
    {
     "name": "stdout",
     "output_type": "stream",
     "text": [
      "         Date Firm bought from  Buying price  Quantity bought   Customer  \\\n",
      "0  2023-08-21          Vendor6         72.11               60  Customer7   \n",
      "1  2023-08-21          Vendor4         75.08               92  Customer7   \n",
      "2  2023-08-21          Vendor7         83.93               16  Customer2   \n",
      "3  2023-08-21          Vendor7         52.01               62  Customer3   \n",
      "4  2023-08-21          Vendor2         98.91                1  Customer5   \n",
      "..        ...              ...           ...              ...        ...   \n",
      "65 2023-08-27          Vendor4         64.82               28  Customer6   \n",
      "66 2023-08-27          Vendor8         88.79               14  Customer3   \n",
      "67 2023-08-27          Vendor5         63.30               81  Customer5   \n",
      "68 2023-08-27          Vendor5         94.06               18  Customer5   \n",
      "69 2023-08-27          Vendor5         56.28               25  Customer6   \n",
      "\n",
      "    Selling price  Quantity sold  Total Revenue  Total COGS  Gross Profit  \\\n",
      "0           91.58             44        4029.52     3172.84        856.68   \n",
      "1           83.71             17        1423.07     1276.36        146.71   \n",
      "2          103.76             15        1556.40     1258.95        297.45   \n",
      "3           64.53              7         451.71      364.07         87.64   \n",
      "4          140.92              1         140.92       98.91         42.01   \n",
      "..            ...            ...            ...         ...           ...   \n",
      "65          87.45             18        1574.10     1166.76        407.34   \n",
      "66         105.59              5         527.95      443.95         84.00   \n",
      "67          92.92             32        2973.44     2025.60        947.84   \n",
      "68         125.67              4         502.68      376.24        126.44   \n",
      "69          82.16              1          82.16       56.28         25.88   \n",
      "\n",
      "    3-Day Moving Avg Gross Profit  Price Elasticity  \n",
      "0                             NaN          0.000000  \n",
      "1                             NaN         -5.338565  \n",
      "2                      433.613333         -0.497938  \n",
      "3                      177.266667         -2.215548  \n",
      "4                      142.366667         -2.018091  \n",
      "..                            ...               ...  \n",
      "65                     552.863333         -1.665314  \n",
      "66                     552.070000         -3.817030  \n",
      "67                     479.726667         11.540176  \n",
      "68                     386.093333         -2.603686  \n",
      "69                     366.720000         -1.630989  \n",
      "\n",
      "[70 rows x 12 columns]\n"
     ]
    }
   ],
   "source": [
    "# Display the results\n",
    "df[\"Price Elasticity\"] = price_elasticity\n",
    "print(df)"
   ]
  }
 ],
 "metadata": {
  "kernelspec": {
   "display_name": "Python 3",
   "language": "python",
   "name": "python3"
  },
  "language_info": {
   "codemirror_mode": {
    "name": "ipython",
    "version": 3
   },
   "file_extension": ".py",
   "mimetype": "text/x-python",
   "name": "python",
   "nbconvert_exporter": "python",
   "pygments_lexer": "ipython3",
   "version": "3.10.9 (v3.10.9:1dd9be6584, Dec  6 2022, 14:37:36) [Clang 13.0.0 (clang-1300.0.29.30)]"
  },
  "orig_nbformat": 4,
  "vscode": {
   "interpreter": {
    "hash": "aee8b7b246df8f9039afb4144a1f6fd8d2ca17a180786b69acc140d282b71a49"
   }
  }
 },
 "nbformat": 4,
 "nbformat_minor": 2
}
